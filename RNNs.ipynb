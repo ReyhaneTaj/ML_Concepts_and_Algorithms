{
  "nbformat": 4,
  "nbformat_minor": 0,
  "metadata": {
    "colab": {
      "provenance": [],
      "include_colab_link": true
    },
    "kernelspec": {
      "name": "python3",
      "display_name": "Python 3"
    },
    "language_info": {
      "name": "python"
    }
  },
  "cells": [
    {
      "cell_type": "markdown",
      "metadata": {
        "id": "view-in-github",
        "colab_type": "text"
      },
      "source": [
        "<a href=\"https://colab.research.google.com/github/ReyhaneTaj/ML_Concepts_and_Algorithms/blob/main/RNNs.ipynb\" target=\"_parent\"><img src=\"https://colab.research.google.com/assets/colab-badge.svg\" alt=\"Open In Colab\"/></a>"
      ]
    },
    {
      "cell_type": "markdown",
      "source": [
        "# Recurrent Neural Networks (RNNs) Notebook\n",
        "\n",
        "Recurrent Neural Networks (RNNs) are a class of neural networks designed to handle sequential data by retaining a \"memory\" of previous inputs in the sequence. This makes them particularly useful for tasks where context or order matters, such as time-series forecasting, natural language processing (NLP), and speech recognition.\n",
        "\n",
        "### Key Characteristics\n",
        "- **Sequence Handling**: RNNs can process sequences of variable length.\n",
        "- **Memory Mechanism**: They maintain a hidden state that captures information from previous time steps.\n",
        "\n",
        "## RNN Architecture\n",
        "\n",
        "An RNN is characterized by a loop within its architecture, allowing information to be passed from one step of the sequence to the next.\n",
        "\n",
        "### Basic Components\n",
        "- **Input Layer**: Receives the sequence data.\n",
        "- **Hidden Layer**: Maintains the hidden state that is updated at each time step.\n",
        "- **Output Layer**: Produces the output for each time step or for the entire sequence.\n",
        "\n",
        "### Mathematical Representation\n",
        "For a given time step `t`:\n",
        "- **Hidden state update**:\n",
        "  \\[\n",
        "  h_t = \\sigma(W_{hh}h_{t-1} + W_{xh}x_t + b_h)\n",
        "  \\]\n",
        "- **Output calculation**:\n",
        "  \\[\n",
        "  y_t = W_{hy}h_t + b_y\n",
        "  \\]\n",
        "Where:\n",
        "- \\( h_t \\) is the hidden state at time step `t`.\n",
        "- \\( x_t \\) is the input at time step `t`.\n",
        "- \\( y_t \\) is the output at time step `t`.\n",
        "- \\( W_{hh} \\), \\( W_{xh} \\), and \\( W_{hy} \\) are the weight matrices.\n",
        "- \\( b_h \\) and \\( b_y \\) are the biases.\n",
        "- \\( \\sigma \\) is the activation function, typically `tanh` or `ReLU`.\n",
        "\n",
        "### Backpropagation Through Time (BPTT)\n",
        "RNNs are trained using a variant of backpropagation called Backpropagation Through Time (BPTT), which considers the dependencies between time steps.\n",
        "\n",
        "## Types of RNNs\n",
        "\n",
        "### 1. **Vanilla RNN**\n",
        "   - The simplest form of RNN with a single hidden layer.\n",
        "\n",
        "### 2. **Long Short-Term Memory (LSTM)**\n",
        "   - Designed to address the vanishing gradient problem in vanilla RNNs.\n",
        "   - Introduces gates (input, forget, and output gates) to control the flow of information.\n",
        "\n",
        "### 3. **Gated Recurrent Unit (GRU)**\n",
        "   - A variant of LSTM with fewer gates, making it computationally more efficient.\n",
        "\n",
        "### 4. **Bidirectional RNN**\n",
        "   - Processes the sequence in both forward and backward directions, capturing information from both past and future states.\n",
        "\n",
        "### 5. **Deep RNNs**\n",
        "   - Consist of multiple RNN layers stacked on top of each other, allowing the network to capture more complex patterns.\n",
        "\n",
        "## Applications of RNNs\n",
        "\n",
        "1. **Natural Language Processing (NLP)**\n",
        "   - Language Modeling\n",
        "   - Machine Translation\n",
        "   - Sentiment Analysis\n",
        "\n",
        "2. **Time-Series Forecasting**\n",
        "   - Stock Price Prediction\n",
        "   - Weather Forecasting\n",
        "\n",
        "3. **Speech Recognition**\n",
        "   - Voice Assistants (e.g., Siri, Alexa)\n",
        "   - Automated Transcription\n",
        "\n",
        "4. **Image Captioning**\n",
        "   - Generating descriptions for images by combining Convolutional Neural Networks (CNNs) and RNNs.\n",
        "\n",
        "## Challenges of RNNs\n",
        "\n",
        "### 1. **Vanishing and Exploding Gradients**\n",
        "   - Gradients can become too small or too large during training, leading to difficulty in learning long-term dependencies.\n",
        "\n",
        "### 2. **Long Training Times**\n",
        "   - RNNs can be slow to train due to the sequential nature of processing.\n",
        "\n",
        "### 3. **Difficulty in Parallelization**\n",
        "   - Unlike feedforward networks, RNNs process data sequentially, making them harder to parallelize.\n",
        "\n",
        "### 4. **Short-Term Memory**\n",
        "   - Vanilla RNNs struggle to retain information from the distant past, which is partially addressed by LSTMs and GRUs.\n",
        "\n",
        "## Implementation in Python\n",
        "\n",
        "Here’s a simple implementation of an RNN using TensorFlow:\n",
        "\n",
        "\n"
      ],
      "metadata": {
        "id": "mQNq1AQ_CbfW"
      }
    },
    {
      "cell_type": "code",
      "source": [
        "#RNN in Python\n",
        "import tensorflow as tf\n",
        "from tensorflow.keras.models import Sequential\n",
        "from tensorflow.keras.layers import SimpleRNN, Dense, Input\n",
        "\n",
        "# Example definitions (these should be set according to your data)\n",
        "timesteps = 10     # Number of time steps in each input sequence\n",
        "input_dim = 20     # Number of features in each time step\n",
        "output_dim = 5     # Number of classes in the output\n",
        "\n",
        "# Define the model using an Input layer\n",
        "model = Sequential([\n",
        "    Input(shape=(timesteps, input_dim)),\n",
        "    SimpleRNN(50, activation='tanh'),\n",
        "    Dense(output_dim, activation='softmax')\n",
        "])\n",
        "\n",
        "# Compile the model\n",
        "model.compile(optimizer='adam', loss='categorical_crossentropy', metrics=['accuracy'])"
      ],
      "metadata": {
        "id": "BRk6NVGKCtO1"
      },
      "execution_count": null,
      "outputs": []
    },
    {
      "cell_type": "code",
      "source": [
        "#RNN in Pytorch\n",
        "\n",
        "import torch\n",
        "import torch.nn as nn\n",
        "import torch.optim as optim\n",
        "\n",
        "# Define the necessary dimensions and data\n",
        "input_dim = 10      # Number of features in each time step\n",
        "hidden_dim = 50     # Number of hidden units in the RNN\n",
        "output_dim = 5      # Number of classes in the output\n",
        "num_epochs = 20     # Number of training epochs\n",
        "\n",
        "# Example data (replace with your actual data)\n",
        "batch_size = 32\n",
        "sequence_length = 15\n",
        "X_train = torch.randn(batch_size, sequence_length, input_dim)  # Randomly generated data\n",
        "y_train = torch.randint(0, output_dim, (batch_size,))          # Randomly generated labels\n",
        "\n",
        "# Convert labels to one-hot encoding\n",
        "y_train_onehot = torch.nn.functional.one_hot(y_train, num_classes=output_dim).float()\n",
        "\n",
        "# Define the RNN model\n",
        "class RNNModel(nn.Module):\n",
        "    def __init__(self, input_dim, hidden_dim, output_dim):\n",
        "        super(RNNModel, self).__init__()\n",
        "        self.rnn = nn.RNN(input_dim, hidden_dim, batch_first=True)\n",
        "        self.fc = nn.Linear(hidden_dim, output_dim)\n",
        "\n",
        "    def forward(self, x):\n",
        "        h0 = torch.zeros(1, x.size(0), hidden_dim)  # Initial hidden state\n",
        "        out, _ = self.rnn(x, h0)\n",
        "        out = self.fc(out[:, -1, :])  # Taking the output from the last time step\n",
        "        return out\n",
        "\n",
        "# Initialize the model, define the loss and optimizer\n",
        "model = RNNModel(input_dim, hidden_dim, output_dim)\n",
        "criterion = nn.CrossEntropyLoss()\n",
        "optimizer = optim.Adam(model.parameters(), lr=0.001)\n",
        "\n",
        "# Training loop\n",
        "for epoch in range(num_epochs):\n",
        "    model.train()  # Set the model to training mode\n",
        "\n",
        "    # Forward pass\n",
        "    outputs = model(X_train)\n",
        "\n",
        "    # Compute the loss\n",
        "    loss = criterion(outputs, y_train)\n",
        "\n",
        "    # Backward pass and optimization\n",
        "    optimizer.zero_grad()  # Clear gradients\n",
        "    loss.backward()        # Backpropagation\n",
        "    optimizer.step()       # Update weights\n",
        "\n",
        "    # Print loss\n",
        "    if (epoch + 1) % 5 == 0:\n",
        "        print(f'Epoch [{epoch + 1}/{num_epochs}], Loss: {loss.item():.4f}')\n",
        "\n"
      ],
      "metadata": {
        "colab": {
          "base_uri": "https://localhost:8080/"
        },
        "id": "N6xVQpGGDGjU",
        "outputId": "5ad31fab-20a6-4c61-c4cf-58bf843b9ff5"
      },
      "execution_count": null,
      "outputs": [
        {
          "output_type": "stream",
          "name": "stdout",
          "text": [
            "Epoch [5/20], Loss: 1.5073\n",
            "Epoch [10/20], Loss: 1.4229\n",
            "Epoch [15/20], Loss: 1.3382\n",
            "Epoch [20/20], Loss: 1.2486\n"
          ]
        }
      ]
    },
    {
      "cell_type": "markdown",
      "source": [
        "As I understood **Recurrent Neural Networks** are powerful tools for modeling sequential data, but they come with **challenges** like **vanishing gradients** and **long training times.** By using advanced variants like **LSTMs** and **GRUs**, and following best practices, RNNs can be effectively applied to tasks in **NLP, time-series forecasting**, and more."
      ],
      "metadata": {
        "id": "LEqNy-s8D5Cb"
      }
    }
  ]
}